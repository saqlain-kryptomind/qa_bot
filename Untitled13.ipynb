{
 "cells": [
  {
   "cell_type": "code",
   "execution_count": 24,
   "id": "2c80828b-1c8a-43cf-a159-f6fde06e8e2b",
   "metadata": {},
   "outputs": [
    {
     "name": "stdout",
     "output_type": "stream",
     "text": [
      "* Running on local URL:  http://127.0.0.1:7869\n",
      "* Running on public URL: https://950e7a2f8671d7cf0a.gradio.live\n",
      "\n",
      "This share link expires in 72 hours. For free permanent hosting and GPU upgrades, run `gradio deploy` from the terminal in the working directory to deploy to Hugging Face Spaces (https://huggingface.co/spaces)\n"
     ]
    },
    {
     "data": {
      "text/html": [
       "<div><iframe src=\"https://950e7a2f8671d7cf0a.gradio.live\" width=\"100%\" height=\"500\" allow=\"autoplay; camera; microphone; clipboard-read; clipboard-write;\" frameborder=\"0\" allowfullscreen></iframe></div>"
      ],
      "text/plain": [
       "<IPython.core.display.HTML object>"
      ]
     },
     "metadata": {},
     "output_type": "display_data"
    },
    {
     "data": {
      "text/plain": []
     },
     "execution_count": 24,
     "metadata": {},
     "output_type": "execute_result"
    }
   ],
   "source": [
    "import gradio as gr\n",
    "import requests\n",
    "import json\n",
    "from pymongo import MongoClient\n",
    "\n",
    "# API endpoint\n",
    "url = \"https://llm.kryptomind.net/api/generate\"\n",
    "\n",
    "headers = {\n",
    "    \"Content-Type\": \"application/json\"\n",
    "}\n",
    "\n",
    "# MongoDB setup\n",
    "client = MongoClient(\"mongodb://localhost:27017\")\n",
    "db = client[\"llm_conversations\"]\n",
    "collection = db[\"qa\"]\n",
    "\n",
    "# Function to get the AI response\n",
    "def get_ai_response(user_input):\n",
    "    data = {\n",
    "        \"model\": \"llama3\",\n",
    "        \"prompt\": user_input,\n",
    "        \"max_tokens\": 100\n",
    "    }\n",
    "\n",
    "    response = requests.post(url, headers=headers, json=data, stream=True)\n",
    "\n",
    "    if response.status_code == 200:\n",
    "        ai_response = \"\"\n",
    "        try:\n",
    "            for line in response.iter_lines():\n",
    "                if line:\n",
    "                    chunk = line.decode('utf-8')\n",
    "                    chunk_json = json.loads(chunk)\n",
    "                    if 'response' in chunk_json:\n",
    "                        ai_response += chunk_json['response']\n",
    "\n",
    "            # Store the question and answer in MongoDB\n",
    "            qa_pair = {\n",
    "                \"question\": user_input,\n",
    "                \"answer\": ai_response\n",
    "            }\n",
    "            collection.insert_one(qa_pair)\n",
    "\n",
    "            return ai_response\n",
    "\n",
    "        except ValueError as e:\n",
    "            return f\"Error parsing JSON: {e}\"\n",
    "    else:\n",
    "        return f\"Error: {response.status_code}, {response.text}\"\n",
    "\n",
    "# Create the Gradio interface\n",
    "iface = gr.Interface(fn=get_ai_response, \n",
    "                     inputs=\"text\",\n",
    "                     outputs=\"text\",\n",
    "                     title=\"QA Bot\", \n",
    "                     description=\"Ask the AI about any topic.\")\n",
    "\n",
    "# Launch the interface\n",
    "iface.launch(share=True)\n"
   ]
  },
  {
   "cell_type": "code",
   "execution_count": 6,
   "id": "63d111e7-0e17-42c5-8454-4b5ef1381fd2",
   "metadata": {},
   "outputs": [
    {
     "name": "stdout",
     "output_type": "stream",
     "text": [
      "Defaulting to user installation because normal site-packages is not writeable\n",
      "Collecting pymongo\n",
      "  Downloading pymongo-4.10.1-cp312-cp312-win_amd64.whl.metadata (22 kB)\n",
      "Collecting dnspython<3.0.0,>=1.16.0 (from pymongo)\n",
      "  Downloading dnspython-2.7.0-py3-none-any.whl.metadata (5.8 kB)\n",
      "Downloading pymongo-4.10.1-cp312-cp312-win_amd64.whl (926 kB)\n",
      "   ---------------------------------------- 0.0/926.7 kB ? eta -:--:--\n",
      "   ---------------------------------------- 0.0/926.7 kB ? eta -:--:--\n",
      "   ----------- ---------------------------- 262.1/926.7 kB ? eta -:--:--\n",
      "   --------------------- ---------------- 524.3/926.7 kB 989.2 kB/s eta 0:00:01\n",
      "   ---------------------------------------- 926.7/926.7 kB 1.4 MB/s eta 0:00:00\n",
      "Downloading dnspython-2.7.0-py3-none-any.whl (313 kB)\n",
      "Installing collected packages: dnspython, pymongo\n",
      "Successfully installed dnspython-2.7.0 pymongo-4.10.1\n"
     ]
    }
   ],
   "source": [
    "!pip install pymongo"
   ]
  },
  {
   "cell_type": "code",
   "execution_count": null,
   "id": "03016afb-13da-4036-8178-12d5f4cbf4be",
   "metadata": {},
   "outputs": [],
   "source": []
  }
 ],
 "metadata": {
  "kernelspec": {
   "display_name": "Python 3 (ipykernel)",
   "language": "python",
   "name": "python3"
  },
  "language_info": {
   "codemirror_mode": {
    "name": "ipython",
    "version": 3
   },
   "file_extension": ".py",
   "mimetype": "text/x-python",
   "name": "python",
   "nbconvert_exporter": "python",
   "pygments_lexer": "ipython3",
   "version": "3.12.7"
  }
 },
 "nbformat": 4,
 "nbformat_minor": 5
}
